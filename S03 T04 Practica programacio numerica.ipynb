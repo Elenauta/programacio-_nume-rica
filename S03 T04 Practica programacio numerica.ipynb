{
 "cells": [
  {
   "cell_type": "markdown",
   "id": "626cc294",
   "metadata": {},
   "source": [
    "Familiaritza't amb la Programació Numèrica a través de la llibreria NumPy.\n",
    "\n",
    "\n"
   ]
  },
  {
   "cell_type": "markdown",
   "id": "30ff924a",
   "metadata": {},
   "source": [
    " ### Nivell 1 ⭐️"
   ]
  },
  {
   "cell_type": "markdown",
   "id": "a12008d7",
   "metadata": {},
   "source": [
    "## Exercici 1 "
   ]
  },
  {
   "cell_type": "markdown",
   "id": "ed7312c0",
   "metadata": {},
   "source": [
    "Crea una funció que donat un Array d’una dimensió, et faci un resum estadístic bàsic de les dades. Si detecta que l’array té més d’una dimensió, ha de mostrar un missatge d’error."
   ]
  },
  {
   "cell_type": "code",
   "execution_count": 84,
   "id": "3dc71fdc",
   "metadata": {
    "scrolled": false
   },
   "outputs": [
    {
     "name": "stdout",
     "output_type": "stream",
     "text": [
      "20\n",
      "3\n",
      "7\n",
      "5.0\n",
      "5.0\n",
      "3.75\n",
      "5.0\n",
      "6.25\n",
      "1.5811388300841898\n"
     ]
    }
   ],
   "source": [
    "import numpy as np\n",
    "\n",
    "a = np.array([3, 4, 6, 7])\n",
    "\n",
    "def resum_estadistic(a):    \n",
    "    if a.ndim != 1:\n",
    "        print(\"l´Error. L´array ha de tenir 1 dimensió\")\n",
    "    else:\n",
    "        print(np.sum(a))\n",
    "        print(a.min())\n",
    "        print(a.max())\n",
    "        print(np.mean(a))\n",
    "        print(np.median(a))\n",
    "        print(np.percentile(a, 25))\n",
    "        print(np.percentile(a, 50))\n",
    "        print(np.percentile(a, 75))\n",
    "        print(np.std(a))\n",
    "        \n",
    "resum_estadistic(a)"
   ]
  },
  {
   "cell_type": "markdown",
   "id": "67fec003",
   "metadata": {},
   "source": [
    "## Exercici 2 "
   ]
  },
  {
   "cell_type": "markdown",
   "id": "8755ef54",
   "metadata": {},
   "source": [
    "Crea una funció que et generi un quadrat NxN de nombres aleatoris entre el 0 i el 100.\n",
    "\n"
   ]
  },
  {
   "cell_type": "code",
   "execution_count": 85,
   "id": "1a418815",
   "metadata": {
    "scrolled": false
   },
   "outputs": [
    {
     "name": "stdout",
     "output_type": "stream",
     "text": [
      "[[13, 7, 5, 70], [81, 96, 51, 79], [25, 32, 16, 71], [78, 59, 64, 86]]\n"
     ]
    }
   ],
   "source": [
    "import random \n",
    "# creo una llista de 100 números, la desordeno i després els agafo de N en N. \n",
    "\n",
    "def matrix(N):\n",
    "    list = [x for x in range(100)]\n",
    "    random.shuffle(list)\n",
    "    return [list[i:i+N] for i in range(0, N ** 2, N)]\n",
    "\n",
    "print(matrix(4))\n"
   ]
  },
  {
   "cell_type": "markdown",
   "id": "2d2e4cca",
   "metadata": {},
   "source": [
    "## Exercici 3"
   ]
  },
  {
   "cell_type": "markdown",
   "id": "865fa284",
   "metadata": {},
   "source": [
    "Crea una funció que donada una taula de dues dimensions, et calculi els totals per fila i els totals per columna.\n",
    "\n",
    "\n",
    "\n",
    "\n"
   ]
  },
  {
   "cell_type": "code",
   "execution_count": 86,
   "id": "626cbe4e",
   "metadata": {
    "scrolled": false
   },
   "outputs": [
    {
     "name": "stdout",
     "output_type": "stream",
     "text": [
      "[ 56 133]\n",
      "[21 23 25 27 29 31 33]\n"
     ]
    }
   ],
   "source": [
    "mx = [[ 5,  6,  7,  8,  9, 10, 11],\n",
    "     [16, 17, 18, 19, 20, 21, 22]]\n",
    "\n",
    "def sum_axis(mx):\n",
    "    print(np.sum(mx, axis=1))#suma de cada fila\n",
    "    print(np.sum(mx, axis=0))#suma de cada columna\n",
    "sum_axis(mx)    "
   ]
  },
  {
   "cell_type": "markdown",
   "id": "4f692238",
   "metadata": {},
   "source": [
    "______"
   ]
  },
  {
   "cell_type": "markdown",
   "id": "75ff101f",
   "metadata": {},
   "source": [
    "#### Objectius\n",
    "\n",
    "- Arrays\n",
    "- Matrius\n",
    "- Funcions\n"
   ]
  },
  {
   "cell_type": "markdown",
   "id": "3b3de7ef",
   "metadata": {},
   "source": [
    "#### Durada\n",
    "3 dies\n"
   ]
  },
  {
   "cell_type": "markdown",
   "id": "5fdabfbb",
   "metadata": {},
   "source": [
    "#### Lliurament"
   ]
  },
  {
   "cell_type": "markdown",
   "id": "7ecb1ee6",
   "metadata": {},
   "source": [
    "Enviar la URL a un repositori anomenat __programació_Numèrica__ que contingui la solució. S'ha d'entregar cada Excercici en un mateix fitxer i en un repositori."
   ]
  }
 ],
 "metadata": {
  "kernelspec": {
   "display_name": "Python 3",
   "language": "python",
   "name": "python3"
  },
  "language_info": {
   "codemirror_mode": {
    "name": "ipython",
    "version": 3
   },
   "file_extension": ".py",
   "mimetype": "text/x-python",
   "name": "python",
   "nbconvert_exporter": "python",
   "pygments_lexer": "ipython3",
   "version": "3.8.8"
  }
 },
 "nbformat": 4,
 "nbformat_minor": 5
}
